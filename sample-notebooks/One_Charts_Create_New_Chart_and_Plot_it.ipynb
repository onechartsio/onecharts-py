{
  "nbformat": 4,
  "nbformat_minor": 0,
  "metadata": {
    "colab": {
      "provenance": [],
      "authorship_tag": "ABX9TyMNc6oUMieuosfsOpMs8VCP",
      "include_colab_link": true
    },
    "kernelspec": {
      "name": "python3",
      "display_name": "Python 3"
    },
    "language_info": {
      "name": "python"
    }
  },
  "cells": [
    {
      "cell_type": "markdown",
      "metadata": {
        "id": "view-in-github",
        "colab_type": "text"
      },
      "source": [
        "<a href=\"https://colab.research.google.com/github/onechartsio/onecharts-py/blob/main/sample-notebooks/One_Charts_Create_New_Chart_and_Plot_it.ipynb\" target=\"_parent\"><img src=\"https://colab.research.google.com/assets/colab-badge.svg\" alt=\"Open In Colab\"/></a>"
      ]
    },
    {
      "cell_type": "code",
      "execution_count": null,
      "metadata": {
        "id": "OC9RT5lSH4xd"
      },
      "outputs": [],
      "source": [
        "#@title Install OneCharts Python Package.\n",
        "!pip install OneCharts"
      ]
    },
    {
      "cell_type": "code",
      "source": [
        "#@title imports.\n",
        "\n",
        "import onecharts\n",
        "from IPython.display import SVG"
      ],
      "metadata": {
        "id": "-XPy4-5eIBiQ"
      },
      "execution_count": 2,
      "outputs": []
    },
    {
      "cell_type": "code",
      "source": [
        "#@title Initialize OneCharts instance with your API Key.\n",
        "\n",
        "API_KEY = 'YOUR_API_KEY'\n",
        "oc = onecharts.OneCharts(API_KEY)  # Add your API Key."
      ],
      "metadata": {
        "id": "X1Z2kbDKIKn5"
      },
      "execution_count": 14,
      "outputs": []
    },
    {
      "cell_type": "code",
      "source": [
        "#@title Create a new chart with your data.\n",
        "\n",
        "data  = {\n",
        "    'dataset': [\n",
        "        {\n",
        "            'name': \"Jan\",\n",
        "            \"value\": 10\n",
        "        },\n",
        "        {\n",
        "            'name': \"Feb\",\n",
        "            \"value\": 10\n",
        "        },\n",
        "        {\n",
        "            'name': \"Mar\",\n",
        "            \"value\": 20\n",
        "        }\n",
        "    ]\n",
        "}\n",
        "res = oc.create_new_chart('piechart', chart_title='Rainfall in 2023', visibility='public', notes='Some notes', data=data)\n",
        "print(res)"
      ],
      "metadata": {
        "colab": {
          "base_uri": "https://localhost:8080/"
        },
        "id": "qbAbdm6cIYYo",
        "outputId": "d95d2254-a156-45b1-ecba-88a078af1a6e"
      },
      "execution_count": 30,
      "outputs": [
        {
          "output_type": "stream",
          "name": "stdout",
          "text": [
            "{'chart_id': 'OmmL_I0zM-xbk5', 'success': True}\n"
          ]
        }
      ]
    },
    {
      "cell_type": "code",
      "source": [
        "#@title Plot the chart.\n",
        "\n",
        "chart_id = res['chart_id']\n",
        "img = oc.get_chart_image(chart_id, width=600, height=300, background_color='#ffffff')\n",
        "SVG(img)"
      ],
      "metadata": {
        "colab": {
          "base_uri": "https://localhost:8080/",
          "height": 321
        },
        "id": "Hez1-ZedIZHt",
        "outputId": "3dcba164-a0d7-4a1f-bd13-221218017396"
      },
      "execution_count": 31,
      "outputs": [
        {
          "output_type": "execute_result",
          "data": {
            "text/plain": [
              "<IPython.core.display.SVG object>"
            ],
            "image/svg+xml": "<svg xmlns=\"http://www.w3.org/2000/svg\" xmlns:xlink=\"http://www.w3.org/1999/xlink\" width=\"600\" height=\"300\" version=\"1.1\" baseProfile=\"full\" viewBox=\"0 0 600 300\">\n<rect width=\"600\" height=\"300\" x=\"0\" y=\"0\" id=\"0\" fill=\"#ffffff\"/>\n<polyline points=\"374.2 75.8 384.9 65.1 399.9 65.1\" fill=\"none\" stroke=\"#5470c6\"/>\n<polyline points=\"374.2 224.2 384.9 234.9 399.9 234.9\" fill=\"none\" stroke=\"#91cc75\"/>\n<polyline points=\"195 150 180 150 165 150\" fill=\"none\" stroke=\"#fac858\"/>\n<path d=\"M300 45A105 105 0 0 1 405 150L300 150Z\" fill=\"#5470c6\"/>\n<path d=\"M405 150A105 105 0 0 1 300 255L300 150Z\" fill=\"#91cc75\"/>\n<path d=\"M300 255A105 105 0 1 1 300 45L300 150Z\" fill=\"#fac858\"/>\n<text dominant-baseline=\"central\" text-anchor=\"start\" style=\"font-size:12px;font-family:sans-serif;\" transform=\"translate(404.8528 65.1472)\" fill=\"#333\" stroke=\"rgb(255,255,255)\" stroke-width=\"2\" paint-order=\"stroke\" stroke-miterlimit=\"2\">Jan</text>\n<text dominant-baseline=\"central\" text-anchor=\"start\" style=\"font-size:12px;font-family:sans-serif;\" transform=\"translate(404.8528 234.8528)\" fill=\"#333\" stroke=\"rgb(255,255,255)\" stroke-width=\"2\" paint-order=\"stroke\" stroke-miterlimit=\"2\">Feb</text>\n<text dominant-baseline=\"central\" text-anchor=\"end\" style=\"font-size:12px;font-family:sans-serif;\" transform=\"translate(160 150)\" fill=\"#333\" stroke=\"rgb(255,255,255)\" stroke-width=\"2\" paint-order=\"stroke\" stroke-miterlimit=\"2\">Mar</text>\n<path d=\"M-5 -5l180.8 0l0 24l-180.8 0Z\" transform=\"translate(227 281)\" fill=\"rgb(0,0,0)\" fill-opacity=\"0\" stroke=\"#ccc\" stroke-width=\"0\"/>\n<path d=\"M3.5 0L21.5 0A3.5 3.5 0 0 1 25 3.5L25 10.5A3.5 3.5 0 0 1 21.5 14L3.5 14A3.5 3.5 0 0 1 0 10.5L0 3.5A3.5 3.5 0 0 1 3.5 0\" transform=\"translate(227 281)\" fill=\"#5470c6\"/>\n<text dominant-baseline=\"central\" text-anchor=\"start\" style=\"font-size:12px;font-family:sans-serif;\" x=\"30\" y=\"7\" transform=\"translate(227 281)\" fill=\"#333\">Jan</text>\n<path d=\"M3.5 0L21.5 0A3.5 3.5 0 0 1 25 3.5L25 10.5A3.5 3.5 0 0 1 21.5 14L3.5 14A3.5 3.5 0 0 1 0 10.5L0 3.5A3.5 3.5 0 0 1 3.5 0\" transform=\"translate(286.44 281)\" fill=\"#91cc75\"/>\n<text dominant-baseline=\"central\" text-anchor=\"start\" style=\"font-size:12px;font-family:sans-serif;\" x=\"30\" y=\"7\" transform=\"translate(286.44 281)\" fill=\"#333\">Feb</text>\n<path d=\"M3.5 0L21.5 0A3.5 3.5 0 0 1 25 3.5L25 10.5A3.5 3.5 0 0 1 21.5 14L3.5 14A3.5 3.5 0 0 1 0 10.5L0 3.5A3.5 3.5 0 0 1 3.5 0\" transform=\"translate(347.2 281)\" fill=\"#fac858\"/>\n<text dominant-baseline=\"central\" text-anchor=\"start\" style=\"font-size:12px;font-family:sans-serif;\" x=\"30\" y=\"7\" transform=\"translate(347.2 281)\" fill=\"#333\">Mar</text>\n<path d=\"M-42.6 -5l85.2 0l0 28l-85.2 0Z\" transform=\"translate(305 5)\" fill=\"rgb(0,0,0)\" fill-opacity=\"0\" stroke=\"#ccc\" stroke-width=\"0\"/>\n<text dominant-baseline=\"central\" text-anchor=\"middle\" style=\"font-size:18px;font-family:sans-serif;font-weight:bold;\" xml:space=\"preserve\" y=\"9\" transform=\"translate(305 5)\" fill=\"#464646\">Pie Chart</text>\n</svg>"
          },
          "metadata": {},
          "execution_count": 31
        }
      ]
    },
    {
      "cell_type": "code",
      "source": [],
      "metadata": {
        "id": "MLfa-P92JapH"
      },
      "execution_count": null,
      "outputs": []
    }
  ]
}